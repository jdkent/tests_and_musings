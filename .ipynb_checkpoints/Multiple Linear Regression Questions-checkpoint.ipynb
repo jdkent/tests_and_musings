{
 "cells": [
  {
   "cell_type": "markdown",
   "metadata": {},
   "source": [
    "This is my attempt to perform multiple linear regression.\n",
    "## Background/Relevant info \n",
    "Timeseries/spatial data have been broken down into components via a form of [independent components analysis](https://fsl.fmrib.ox.ac.uk/fsl/fslwiki/MELODIC). These components were then run through a [classifier](https://github.com/rhr-pruim/ICA-AROMA) to identify \"signals\" and \"noise\". \n",
    "## Goals\n",
    "1) To \"give\" any shared variance between the signal and noise components to the signal components and \n",
    "\n",
    "2) use the unique variance explained by the noise components as regressors in our main dataset\n",
    "\n",
    "## Method\n",
    "use multiple linear regression for each noise component, where each signal component will be regressed out of the noise component until only the unique variance from the noise component remains.\n",
    "mathematically/codely it would look something like this\n",
    "```\n",
    "for each noise_component in noise_components:\n",
    "    noise_component_hat = B0 + (B1 * signal_component1) + (B2 * signal_component2) + ... + (BN * signal_componentN)\n",
    "    \n",
    "    residual_noise_component = noise_component_hat - noise_component\n",
    "    \n",
    "    return residual_noise_component\n",
    "```\n",
    "Then I would append the residual noise components together into a matrix and use that matrix as a regressor for my timeseries data (in this case brain imaging data)."
   ]
  },
  {
   "cell_type": "markdown",
   "metadata": {},
   "source": [
    "### Step 1: import the requisite packages"
   ]
  },
  {
   "cell_type": "code",
   "execution_count": 1,
   "metadata": {
    "collapsed": true
   },
   "outputs": [],
   "source": [
    "import numpy as np"
   ]
  },
  {
   "cell_type": "markdown",
   "metadata": {},
   "source": [
    "### Step 2: load the file that contains both signal and noise components\n",
    "Assuming they are in the same directory as this notebook"
   ]
  },
  {
   "cell_type": "code",
   "execution_count": 2,
   "metadata": {},
   "outputs": [
    {
     "name": "stdout",
     "output_type": "stream",
     "text": [
      "(315, 72)\n",
      "(62,)\n"
     ]
    }
   ],
   "source": [
    "# 2 dimensional matrix\n",
    "components = np.loadtxt('melodic_mix', ndmin=2)\n",
    "print(str(components.shape))\n",
    "# these are integers referring to the columns of the components matrix\n",
    "# each column listed is a noise component\n",
    "# I subtract 1 from the integers since the list starts the count at\n",
    "# 1, but python lists start at index 0.\n",
    "noise_components_indices = np.loadtxt('classified_motion_ICs.txt', \n",
    "                                     dtype=int, delimiter=',') - 1\n",
    "print(str(noise_components_indices.shape))\n"
   ]
  },
  {
   "cell_type": "markdown",
   "metadata": {},
   "source": [
    "### Step 3: split the noise/signal matrix into a signal matrix and a noise matrix"
   ]
  },
  {
   "cell_type": "code",
   "execution_count": 3,
   "metadata": {},
   "outputs": [
    {
     "name": "stdout",
     "output_type": "stream",
     "text": [
      "signal: (315, 10)\n",
      "noise: (315, 62)\n"
     ]
    }
   ],
   "source": [
    "signal_components = np.delete(components, noise_components_indices, 1)\n",
    "noise_components = np.asarray([components.T[x] for x in noise_components_indices]).T\n",
    "\n",
    "print('signal: ' + str(signal_components.shape))\n",
    "print('noise: ' + str(noise_components.shape))"
   ]
  },
  {
   "cell_type": "markdown",
   "metadata": {},
   "source": [
    "### Step 4: make function to perform multiple linear regression and return residual timeseries"
   ]
  },
  {
   "cell_type": "code",
   "execution_count": 4,
   "metadata": {
    "collapsed": true
   },
   "outputs": [],
   "source": [
    "# doc: https://docs.scipy.org/doc/numpy/reference/generated/numpy.linalg.lstsq.html\n",
    "def calc_residuals(x, y):\n",
    "        print('x shape: ' + str(x.shape))\n",
    "        print('y shape: ' + str(y.shape))\n",
    "        \n",
    "        X = np.concatenate((x, np.ones((x.shape[0], 1))), axis=1)\n",
    "        print('X shape: ' + str(X.shape))\n",
    "        \n",
    "        beta_hat = np.linalg.lstsq(X, y)[0]\n",
    "        y_hat = np.dot(X, beta_hat)\n",
    "        \n",
    "        print('y_hat shape: ' + str(y_hat.shape))\n",
    "        residuals = y_hat - y \n",
    "        \n",
    "        return residuals"
   ]
  },
  {
   "cell_type": "markdown",
   "metadata": {},
   "source": [
    "### Step 5: Use the function & list comprehension to make residual noise matrix"
   ]
  },
  {
   "cell_type": "code",
   "execution_count": 5,
   "metadata": {},
   "outputs": [
    {
     "name": "stdout",
     "output_type": "stream",
     "text": [
      "x shape: (315, 10)\n",
      "y shape: (315,)\n",
      "X shape: (315, 11)\n",
      "y_hat shape: (315,)\n",
      "x shape: (315, 10)\n",
      "y shape: (315,)\n",
      "X shape: (315, 11)\n",
      "y_hat shape: (315,)\n",
      "x shape: (315, 10)\n",
      "y shape: (315,)\n",
      "X shape: (315, 11)\n",
      "y_hat shape: (315,)\n",
      "x shape: (315, 10)\n",
      "y shape: (315,)\n",
      "X shape: (315, 11)\n",
      "y_hat shape: (315,)\n",
      "x shape: (315, 10)\n",
      "y shape: (315,)\n",
      "X shape: (315, 11)\n",
      "y_hat shape: (315,)\n",
      "x shape: (315, 10)\n",
      "y shape: (315,)\n",
      "X shape: (315, 11)\n",
      "y_hat shape: (315,)\n",
      "x shape: (315, 10)\n",
      "y shape: (315,)\n",
      "X shape: (315, 11)\n",
      "y_hat shape: (315,)\n",
      "x shape: (315, 10)\n",
      "y shape: (315,)\n",
      "X shape: (315, 11)\n",
      "y_hat shape: (315,)\n",
      "x shape: (315, 10)\n",
      "y shape: (315,)\n",
      "X shape: (315, 11)\n",
      "y_hat shape: (315,)\n",
      "x shape: (315, 10)\n",
      "y shape: (315,)\n",
      "X shape: (315, 11)\n",
      "y_hat shape: (315,)\n",
      "x shape: (315, 10)\n",
      "y shape: (315,)\n",
      "X shape: (315, 11)\n",
      "y_hat shape: (315,)\n",
      "x shape: (315, 10)\n",
      "y shape: (315,)\n",
      "X shape: (315, 11)\n",
      "y_hat shape: (315,)\n",
      "x shape: (315, 10)\n",
      "y shape: (315,)\n",
      "X shape: (315, 11)\n",
      "y_hat shape: (315,)\n",
      "x shape: (315, 10)\n",
      "y shape: (315,)\n",
      "X shape: (315, 11)\n",
      "y_hat shape: (315,)\n",
      "x shape: (315, 10)\n",
      "y shape: (315,)\n",
      "X shape: (315, 11)\n",
      "y_hat shape: (315,)\n",
      "x shape: (315, 10)\n",
      "y shape: (315,)\n",
      "X shape: (315, 11)\n",
      "y_hat shape: (315,)\n",
      "x shape: (315, 10)\n",
      "y shape: (315,)\n",
      "X shape: (315, 11)\n",
      "y_hat shape: (315,)\n",
      "x shape: (315, 10)\n",
      "y shape: (315,)\n",
      "X shape: (315, 11)\n",
      "y_hat shape: (315,)\n",
      "x shape: (315, 10)\n",
      "y shape: (315,)\n",
      "X shape: (315, 11)\n",
      "y_hat shape: (315,)\n",
      "x shape: (315, 10)\n",
      "y shape: (315,)\n",
      "X shape: (315, 11)\n",
      "y_hat shape: (315,)\n",
      "x shape: (315, 10)\n",
      "y shape: (315,)\n",
      "X shape: (315, 11)\n",
      "y_hat shape: (315,)\n",
      "x shape: (315, 10)\n",
      "y shape: (315,)\n",
      "X shape: (315, 11)\n",
      "y_hat shape: (315,)\n",
      "x shape: (315, 10)\n",
      "y shape: (315,)\n",
      "X shape: (315, 11)\n",
      "y_hat shape: (315,)\n",
      "x shape: (315, 10)\n",
      "y shape: (315,)\n",
      "X shape: (315, 11)\n",
      "y_hat shape: (315,)\n",
      "x shape: (315, 10)\n",
      "y shape: (315,)\n",
      "X shape: (315, 11)\n",
      "y_hat shape: (315,)\n",
      "x shape: (315, 10)\n",
      "y shape: (315,)\n",
      "X shape: (315, 11)\n",
      "y_hat shape: (315,)\n",
      "x shape: (315, 10)\n",
      "y shape: (315,)\n",
      "X shape: (315, 11)\n",
      "y_hat shape: (315,)\n",
      "x shape: (315, 10)\n",
      "y shape: (315,)\n",
      "X shape: (315, 11)\n",
      "y_hat shape: (315,)\n",
      "x shape: (315, 10)\n",
      "y shape: (315,)\n",
      "X shape: (315, 11)\n",
      "y_hat shape: (315,)\n",
      "x shape: (315, 10)\n",
      "y shape: (315,)\n",
      "X shape: (315, 11)\n",
      "y_hat shape: (315,)\n",
      "x shape: (315, 10)\n",
      "y shape: (315,)\n",
      "X shape: (315, 11)\n",
      "y_hat shape: (315,)\n",
      "x shape: (315, 10)\n",
      "y shape: (315,)\n",
      "X shape: (315, 11)\n",
      "y_hat shape: (315,)\n",
      "x shape: (315, 10)\n",
      "y shape: (315,)\n",
      "X shape: (315, 11)\n",
      "y_hat shape: (315,)\n",
      "x shape: (315, 10)\n",
      "y shape: (315,)\n",
      "X shape: (315, 11)\n",
      "y_hat shape: (315,)\n",
      "x shape: (315, 10)\n",
      "y shape: (315,)\n",
      "X shape: (315, 11)\n",
      "y_hat shape: (315,)\n",
      "x shape: (315, 10)\n",
      "y shape: (315,)\n",
      "X shape: (315, 11)\n",
      "y_hat shape: (315,)\n",
      "x shape: (315, 10)\n",
      "y shape: (315,)\n",
      "X shape: (315, 11)\n",
      "y_hat shape: (315,)\n",
      "x shape: (315, 10)\n",
      "y shape: (315,)\n",
      "X shape: (315, 11)\n",
      "y_hat shape: (315,)\n",
      "x shape: (315, 10)\n",
      "y shape: (315,)\n",
      "X shape: (315, 11)\n",
      "y_hat shape: (315,)\n",
      "x shape: (315, 10)\n",
      "y shape: (315,)\n",
      "X shape: (315, 11)\n",
      "y_hat shape: (315,)\n",
      "x shape: (315, 10)\n",
      "y shape: (315,)\n",
      "X shape: (315, 11)\n",
      "y_hat shape: (315,)\n",
      "x shape: (315, 10)\n",
      "y shape: (315,)\n",
      "X shape: (315, 11)\n",
      "y_hat shape: (315,)\n",
      "x shape: (315, 10)\n",
      "y shape: (315,)\n",
      "X shape: (315, 11)\n",
      "y_hat shape: (315,)\n",
      "x shape: (315, 10)\n",
      "y shape: (315,)\n",
      "X shape: (315, 11)\n",
      "y_hat shape: (315,)\n",
      "x shape: (315, 10)\n",
      "y shape: (315,)\n",
      "X shape: (315, 11)\n",
      "y_hat shape: (315,)\n",
      "x shape: (315, 10)\n",
      "y shape: (315,)\n",
      "X shape: (315, 11)\n",
      "y_hat shape: (315,)\n",
      "x shape: (315, 10)\n",
      "y shape: (315,)\n",
      "X shape: (315, 11)\n",
      "y_hat shape: (315,)\n",
      "x shape: (315, 10)\n",
      "y shape: (315,)\n",
      "X shape: (315, 11)\n",
      "y_hat shape: (315,)\n",
      "x shape: (315, 10)\n",
      "y shape: (315,)\n",
      "X shape: (315, 11)\n",
      "y_hat shape: (315,)\n",
      "x shape: (315, 10)\n",
      "y shape: (315,)\n",
      "X shape: (315, 11)\n",
      "y_hat shape: (315,)\n",
      "x shape: (315, 10)\n",
      "y shape: (315,)\n",
      "X shape: (315, 11)\n",
      "y_hat shape: (315,)\n",
      "x shape: (315, 10)\n",
      "y shape: (315,)\n",
      "X shape: (315, 11)\n",
      "y_hat shape: (315,)\n",
      "x shape: (315, 10)\n",
      "y shape: (315,)\n",
      "X shape: (315, 11)\n",
      "y_hat shape: (315,)\n",
      "x shape: (315, 10)\n",
      "y shape: (315,)\n",
      "X shape: (315, 11)\n",
      "y_hat shape: (315,)\n",
      "x shape: (315, 10)\n",
      "y shape: (315,)\n",
      "X shape: (315, 11)\n",
      "y_hat shape: (315,)\n",
      "x shape: (315, 10)\n",
      "y shape: (315,)\n",
      "X shape: (315, 11)\n",
      "y_hat shape: (315,)\n",
      "x shape: (315, 10)\n",
      "y shape: (315,)\n",
      "X shape: (315, 11)\n",
      "y_hat shape: (315,)\n",
      "x shape: (315, 10)\n",
      "y shape: (315,)\n",
      "X shape: (315, 11)\n",
      "y_hat shape: (315,)\n",
      "x shape: (315, 10)\n",
      "y shape: (315,)\n",
      "X shape: (315, 11)\n",
      "y_hat shape: (315,)\n",
      "x shape: (315, 10)\n",
      "y shape: (315,)\n",
      "X shape: (315, 11)\n",
      "y_hat shape: (315,)\n",
      "x shape: (315, 10)\n",
      "y shape: (315,)\n",
      "X shape: (315, 11)\n",
      "y_hat shape: (315,)\n",
      "x shape: (315, 10)\n",
      "y shape: (315,)\n",
      "X shape: (315, 11)\n",
      "y_hat shape: (315,)\n"
     ]
    }
   ],
   "source": [
    "residual_noise_components = np.asarray([calc_residuals(signal_components,noise_component) for noise_component in noise_components.T])"
   ]
  },
  {
   "cell_type": "code",
   "execution_count": 6,
   "metadata": {},
   "outputs": [
    {
     "data": {
      "text/plain": [
       "array([[-1.30494071, -1.23313986, -1.76338933, ...,  0.96139509,\n",
       "         1.652892  ,  1.02799527],\n",
       "       [-1.5121204 , -1.60112789,  1.08681166, ...,  0.04511642,\n",
       "         1.0128364 ,  1.40968464],\n",
       "       [-1.57435511, -1.34045689, -1.63362235, ...,  0.22602668,\n",
       "         0.84659368,  1.17820021],\n",
       "       ..., \n",
       "       [ 1.13275824, -1.371937  ,  0.272498  , ...,  2.70029158,\n",
       "        -0.80058611, -0.55329958],\n",
       "       [ 1.0044955 , -1.46118351, -0.24974767, ..., -0.52636088,\n",
       "        -0.32476127,  0.01532287],\n",
       "       [ 0.99697319, -1.33206033,  1.91356482, ..., -0.26636287,\n",
       "        -0.74635192,  1.24493012]])"
      ]
     },
     "execution_count": 6,
     "metadata": {},
     "output_type": "execute_result"
    }
   ],
   "source": [
    "# list noise_components\n",
    "noise_components"
   ]
  },
  {
   "cell_type": "code",
   "execution_count": 7,
   "metadata": {},
   "outputs": [
    {
     "data": {
      "text/plain": [
       "array([[ 0.04547161,  0.15673279,  0.17050693, ..., -0.39623099,\n",
       "        -0.06379246, -0.09701693],\n",
       "       [ 1.08137732,  1.02010024,  0.78219782, ...,  1.28915496,\n",
       "         0.98948004,  1.00338118],\n",
       "       [ 1.31437403, -1.28425599,  1.39042847, ..., -0.03520885,\n",
       "         0.57038084, -1.37702172],\n",
       "       ..., \n",
       "       [-1.13906208, -0.29497159, -0.52491895, ..., -2.39768941,\n",
       "         0.88453077,  0.22294076],\n",
       "       [-1.21045344, -0.81227162, -0.5957905 , ...,  0.41026058,\n",
       "        -0.10688063,  0.50275165],\n",
       "       [-0.97184217, -1.08128435, -0.99843391, ...,  0.33649364,\n",
       "         0.12380767, -0.53251359]])"
      ]
     },
     "execution_count": 7,
     "metadata": {},
     "output_type": "execute_result"
    }
   ],
   "source": [
    "# list residual_noise_components\n",
    "residual_noise_components"
   ]
  },
  {
   "cell_type": "markdown",
   "metadata": {},
   "source": [
    "## Questions\n",
    "1) Should I be using multiple linear regression?\n",
    "\n",
    "2) Does the multiple linear regression calculation look correct?\n",
    "\n",
    "3) should I have the residual calculation be `y - y_hat` or `y_hat - y`?\n",
    "\n",
    "4) Imaging specific question: How do I apply the results from this regression using fsl_glm to get identical results to fsl_regfilt?\n"
   ]
  }
 ],
 "metadata": {
  "kernelspec": {
   "display_name": "Python 2",
   "language": "python",
   "name": "python2"
  },
  "language_info": {
   "codemirror_mode": {
    "name": "ipython",
    "version": 3
   },
   "file_extension": ".py",
   "mimetype": "text/x-python",
   "name": "python",
   "nbconvert_exporter": "python",
   "pygments_lexer": "ipython3",
   "version": "3.6.1"
  }
 },
 "nbformat": 4,
 "nbformat_minor": 2
}
